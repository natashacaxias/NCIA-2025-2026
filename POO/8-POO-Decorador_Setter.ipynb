{
 "cells": [
  {
   "cell_type": "markdown",
   "metadata": {},
   "source": [
    "![NCIA](NCIA_Images\\start.png)"
   ]
  },
  {
   "cell_type": "code",
   "execution_count": null,
   "metadata": {},
   "outputs": [],
   "source": [
    "# Versão da Linguagem Python\n",
    "from platform import python_version\n",
    "print('Versão da Linguagem Python Usada Neste Jupyter Notebook:', python_version())"
   ]
  },
  {
   "cell_type": "markdown",
   "metadata": {},
   "source": [
    "## Atributos, Encapsulamento e a Necessidade de Controle\n",
    "\n",
    "Em Programação Orientada a Objetos, um dos pilares é o **encapsulamento**. A ideia é proteger os dados (atributos) de um objeto, controlando como eles são acessados e modificados.\n",
    "\n",
    "**O Problema:** Por padrão, os atributos de um objeto em Python são públicos. Isso significa que qualquer parte do código pode alterá-los, o que pode levar a estados inválidos.\n",
    "\n",
    "Imagine uma classe `Produto` com um atributo `preco`. O que impede um programador de atribuir um preço negativo a ele?"
   ]
  },
  {
   "cell_type": "code",
   "execution_count": null,
   "metadata": {},
   "outputs": [],
   "source": [
    "# Definindo uma classe simples com atributos públicos\n",
    "class Produto:\n",
    "    def __init__(self, nome, preco):\n",
    "        self.nome = nome\n",
    "        self.preco = preco\n",
    "\n",
    "# Criando um objeto\n",
    "notebook = Produto(nome=\"Notebook Gamer\", preco=5000)\n",
    "print(f\"Produto: {notebook.nome}, Preço: R${notebook.preco}\")\n",
    "\n",
    "# O problema: podemos facilmente colocar o objeto em um estado inválido\n",
    "notebook.preco = -750\n",
    "print(f\"Produto: {notebook.nome}, Preço: R${notebook.preco}\") # Um preço negativo não faz sentido!"
   ]
  },
  {
   "cell_type": "markdown",
   "metadata": {},
   "source": [
    "## A Solução Pythônica: Getters e Setters com Decoradores\n",
    "\n",
    "Para resolver isso, usamos métodos para intermediar o acesso aos atributos.\n",
    "* Um método **getter** é usado para *ler* o valor de um atributo.\n",
    "* Um método **setter** é usado para *escrever* um novo valor, permitindo-nos adicionar uma lógica de validação.\n",
    "\n",
    "Em Python, a forma mais elegante de fazer isso é com os decoradores `@property` e `@<nome_do_atributo>.setter`.\n",
    "\n",
    "- `@property`: Transforma um método em um \"getter\", que pode ser acessado como se fosse um atributo.\n",
    "- `@<nome>.setter`: Cria o \"setter\" para a propriedade, que é chamado automaticamente quando tentamos atribuir um novo valor."
   ]
  },
  {
   "cell_type": "code",
   "execution_count": null,
   "metadata": {},
   "outputs": [],
   "source": [
    "# Criando a classe com property e setter\n",
    "class ProdutoControlado:\n",
    "    \n",
    "    def __init__(self, nome, preco):\n",
    "        self.nome = nome\n",
    "        # Quando `self.preco = preco` é executado, ele na verdade chama o método setter!\n",
    "        self.preco = preco\n",
    "\n",
    "    @property\n",
    "    def preco(self):\n",
    "        \"\"\"\n",
    "        Este é o método GETTER. É decorado com @property.\n",
    "        Ele é chamado quando tentamos LER o valor de `objeto.preco`.\n",
    "        \"\"\"\n",
    "        print(f\"(Lendo o valor através do getter @property...)\")\n",
    "        # Por convenção, o valor real é guardado em um atributo com um underscore na frente\n",
    "        return self._preco\n",
    "\n",
    "    @preco.setter\n",
    "    def preco(self, novo_preco):\n",
    "        \"\"\"\n",
    "        Este é o método SETTER. É decorado com `@preco.setter`.\n",
    "        Ele é chamado quando tentamos ATRIBUIR um valor para `objeto.preco = valor`.\n",
    "        \"\"\"\n",
    "        print(f\"(Escrevendo o valor {novo_preco} através do @preco.setter...)\")\n",
    "        if novo_preco >= 0:\n",
    "            # Se o valor for válido, o guardamos no atributo \"privado\"\n",
    "            self._preco = novo_preco\n",
    "        else:\n",
    "            # Se for inválido, podemos lançar um erro ou simplesmente avisar.\n",
    "            print(\"Erro: O preço não pode ser negativo. Valor não alterado.\")"
   ]
  },
  {
   "cell_type": "markdown",
   "metadata": {},
   "source": [
    "### Testando a Classe com Controle de Atributos\n",
    "\n",
    "Agora, vamos ver a nossa classe `ProdutoControlado` em ação e observar como os getters e setters são chamados automaticamente."
   ]
  },
  {
   "cell_type": "code",
   "execution_count": null,
   "metadata": {},
   "outputs": [],
   "source": [
    "# 1. Instanciando um novo objeto\n",
    "print(\"--- Criando um novo produto ---\")\n",
    "celular = ProdutoControlado(nome=\"Smartphone XPTO\", preco=2500)\n",
    "print(\"-----------------------------\\n\")\n",
    "\n",
    "# O valor foi definido corretamente durante a inicialização\n",
    "print(f\"Produto Criado: {celular.nome}\")"
   ]
  },
  {
   "cell_type": "code",
   "execution_count": null,
   "metadata": {},
   "outputs": [],
   "source": [
    "# 2. Acessando (lendo) o preço do objeto\n",
    "# Isso irá chamar o método decorado com @property\n",
    "print(\"--- Lendo o preço do produto ---\")\n",
    "valor_do_celular = celular.preco\n",
    "print(f\"Preço retornado: R${valor_do_celular}\")\n",
    "print(\"------------------------------\\n\")"
   ]
  },
  {
   "cell_type": "code",
   "execution_count": null,
   "metadata": {},
   "outputs": [],
   "source": [
    "# 3. Alterando o preço com um valor válido\n",
    "# Isso irá chamar o método decorado com @preco.setter\n",
    "print(\"--- Alterando o preço (valor válido) ---\")\n",
    "celular.preco = 2800\n",
    "print(\"----------------------------------------\\n\")\n",
    "\n",
    "# Vamos ler o valor novamente para confirmar a alteração\n",
    "print(\"--- Lendo o novo preço ---\")\n",
    "print(f\"Novo preço: R${celular.preco}\")\n",
    "print(\"--------------------------\\n\")"
   ]
  },
  {
   "cell_type": "code",
   "execution_count": null,
   "metadata": {},
   "outputs": [],
   "source": [
    "# 4. Tentando alterar o preço com um valor inválido\n",
    "# Isso também chamará o setter, mas a validação impedirá a mudança.\n",
    "\n",
    "celular.preco = -99\n",
    "print(\"________________________________\\n\")\n",
    "\n",
    "# Lendo o preço final para ver que ele não foi alterado\n",
    "print(\"--- Lendo o preço final ---\")\n",
    "print(f\"Preço final do produto: R${celular.preco}\")\n",
    "print(\"________________________________\\n\")"
   ]
  },
  {
   "cell_type": "markdown",
   "metadata": {},
   "source": [
    "## Conclusão: As Vantagens do Padrão Getter/Setter com Decoradores\n",
    "\n",
    "Utilizar `@property` e `@<nome>.setter` é considerado uma prática pythônica por várias razões:\n",
    "\n",
    "1.  **Interface Limpa:** O código que *usa* a sua classe não muda. Ele continua acessando `objeto.preco`, sem precisar saber da lógica complexa de validação que acontece por baixo dos panos.\n",
    "2.  **Encapsulamento Real:** Você protege os atributos do seu objeto, garantindo que ele nunca entre em um estado inválido.\n",
    "3.  **Manutenção Facilitada:** Se no futuro você precisar adicionar uma validação a um atributo que antes era público, pode adicionar os decoradores sem quebrar todo o código que já utilizava a sua classe."
   ]
  },
  {
   "cell_type": "markdown",
   "metadata": {},
   "source": [
    "![NCIA](NCIA_Images\\end.png)"
   ]
  }
 ],
 "metadata": {
  "kernelspec": {
   "display_name": "Python 3",
   "language": "python",
   "name": "python3"
  },
  "language_info": {
   "codemirror_mode": {
    "name": "ipython",
    "version": 3
   },
   "file_extension": ".py",
   "mimetype": "text/x-python",
   "name": "python",
   "nbconvert_exporter": "python",
   "pygments_lexer": "ipython3",
   "version": "3.10.0"
  }
 },
 "nbformat": 4,
 "nbformat_minor": 2
}
