{
  "nbformat": 4,
  "nbformat_minor": 0,
  "metadata": {
    "colab": {
      "provenance": []
    },
    "kernelspec": {
      "name": "python3",
      "display_name": "Python 3"
    },
    "language_info": {
      "name": "python"
    }
  },
  "cells": [
    {
      "cell_type": "code",
      "execution_count": null,
      "metadata": {
        "id": "2Yuzek8w8mzS"
      },
      "outputs": [],
      "source": [
        "import numpy as np\n",
        "import pandas as pd\n"
      ]
    },
    {
      "cell_type": "markdown",
      "source": [
        "#CARREGAR DADOS\n",
        "\n"
      ],
      "metadata": {
        "id": "AvSAxv0fD-AI"
      }
    },
    {
      "cell_type": "code",
      "source": [
        "data_root=\"http://github.com/ageron/data/raw/main/\"\n",
        "lifesat= pd.read_csv(data_root + \"lifesat/lifesat.csv\")"
      ],
      "metadata": {
        "id": "86rlXTZHD5sH"
      },
      "execution_count": null,
      "outputs": []
    },
    {
      "cell_type": "markdown",
      "source": [
        "#EXTRAIR X E Y COMO VETORES 1D\n"
      ],
      "metadata": {
        "id": "pR2f4YZNEt_s"
      }
    },
    {
      "cell_type": "code",
      "source": [
        "x= lifesat[\"GDP per capita (USD)\"].values.astype(float)\n",
        "y= lifesat[\"Life satisfaction\"].values.astype(float)\n"
      ],
      "metadata": {
        "id": "CAV_rCDzEsIC"
      },
      "execution_count": null,
      "outputs": []
    },
    {
      "cell_type": "markdown",
      "source": [
        "#CÁLCULO DAS MÉDIAS"
      ],
      "metadata": {
        "id": "Puijw8UBGBqk"
      }
    },
    {
      "cell_type": "code",
      "source": [
        "x_bar=x.mean()\n",
        "y_bar=y.mean()\n"
      ],
      "metadata": {
        "id": "jushxOhhGE7i"
      },
      "execution_count": null,
      "outputs": []
    },
    {
      "cell_type": "markdown",
      "source": [
        "#CALCULAR OS COEFICIENTES ANGULARES"
      ],
      "metadata": {
        "id": "p9ioMHEGGYin"
      }
    },
    {
      "cell_type": "code",
      "source": [
        "num=np.sum((x-x_bar)*(y-y_bar))\n",
        "den= np.sum((x-x_bar)**2)\n",
        "a=num/den\n",
        "b=y_bar-a*x_bar"
      ],
      "metadata": {
        "id": "b4mEC-kiGwCe"
      },
      "execution_count": null,
      "outputs": []
    },
    {
      "cell_type": "markdown",
      "source": [
        "#COEFICIENTES QUE FORMAM A RETA QUE MELHOR SE AJUSTA AOS DADOS"
      ],
      "metadata": {
        "id": "s_fyNa1gIGmg"
      }
    },
    {
      "cell_type": "code",
      "source": [
        "print(f\"a(inclinação) = {a:.10f}\")\n",
        "print(f\"b(inclinação) = {b:.10f}\")"
      ],
      "metadata": {
        "colab": {
          "base_uri": "https://localhost:8080/"
        },
        "id": "xVvXvyo_HYyC",
        "outputId": "3f986b19-7028-49fe-c974-a9e2e6767b56"
      },
      "execution_count": null,
      "outputs": [
        {
          "output_type": "stream",
          "name": "stdout",
          "text": [
            "a(inclinação) = 0.0000677890\n",
            "b(inclinação) = 3.7490494274\n"
          ]
        }
      ]
    },
    {
      "cell_type": "markdown",
      "source": [
        "#PREDIÇÃO"
      ],
      "metadata": {
        "id": "8JpBwIYWIXzS"
      }
    },
    {
      "cell_type": "code",
      "source": [
        "x_cyprus=32.655\n",
        "y_pred_cyprus=a*x_cyprus+b\n",
        "print(f\"A predição para Chipre é {y_pred_cyprus:.8f}\")"
      ],
      "metadata": {
        "colab": {
          "base_uri": "https://localhost:8080/"
        },
        "id": "Q8xqCNQEIcbw",
        "outputId": "a68bb110-a2dd-4035-817d-edd0094f3e06"
      },
      "execution_count": null,
      "outputs": [
        {
          "output_type": "stream",
          "name": "stdout",
          "text": [
            "A predição para Chipre é 3.75126309\n"
          ]
        }
      ]
    }
  ]
}